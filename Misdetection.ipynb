{
 "cells": [
  {
   "cell_type": "code",
   "execution_count": 1,
   "metadata": {},
   "outputs": [],
   "source": [
    "import numpy as np\n",
    "import matplotlib.pyplot as plt\n",
    "import random\n",
    "from math import sqrt\n",
    "\n",
    "def onsager(z, r, tau):\n",
    "    return (z/n) * np.sum(eta(r, tau) != 0)\n",
    "\n",
    "def eta(u, T):\n",
    "    return (u - T)*(u >= T) + (u + T)*(u <= -T)"
   ]
  },
  {
   "cell_type": "code",
   "execution_count": 2,
   "metadata": {},
   "outputs": [],
   "source": [
    "n = 270\n",
    "N = 1024\n",
    "k = 40\n",
    "num_iterations = 50\n",
    "s = 0.2\n",
    "lambda_ = 0.1\n",
    "\n",
    "# create sensing matrix A\n",
    "A = np.sqrt(1/n)*np.random.randn(n, N)\n",
    "\n",
    "# create k sparse x vector\n",
    "x = np.zeros((N, 1))\n",
    "idx_nonzero_entries = np.random.permutation(N)[0:k]\n",
    "x[idx_nonzero_entries] = 1\n",
    "\n",
    "y = A @ x\n",
    "\n",
    "mse_ist = np.zeros(num_iterations)"
   ]
  },
  {
   "cell_type": "code",
   "execution_count": 3,
   "metadata": {},
   "outputs": [],
   "source": [
    "#print(x)"
   ]
  },
  {
   "cell_type": "code",
   "execution_count": 4,
   "metadata": {},
   "outputs": [],
   "source": [
    "# IST\n",
    "xHt = np.zeros(x.shape)\n",
    "\n",
    "for idx_iter in range(num_iterations):\n",
    "    z = y - A @ xHt\n",
    "    r = xHt + s * A.T @ z\n",
    "    xHt = eta(r, s*lambda_)\n",
    "    # find the current error\n",
    "    mse_ist[idx_iter] = (1/N) * np.sum((x - xHt)**2)"
   ]
  },
  {
   "cell_type": "code",
   "execution_count": 5,
   "metadata": {},
   "outputs": [
    {
     "name": "stdout",
     "output_type": "stream",
     "text": [
      "[[0.]\n",
      " [0.]\n",
      " [0.]\n",
      " ...\n",
      " [0.]\n",
      " [0.]\n",
      " [0.]]\n",
      "[  13   39   40   81  140  145  175  190  194  204  217  264  304  324\n",
      "  334  358  382  395  454  488  497  566  586  591  592  619  669  708\n",
      "  720  735  819  839  847  883  916  936  946  965 1001 1018]\n"
     ]
    }
   ],
   "source": [
    "#print(x)\n",
    "print(xHt)\n",
    "result = np.where(x == 1)[0]\n",
    "print(result)"
   ]
  },
  {
   "cell_type": "code",
   "execution_count": 6,
   "metadata": {},
   "outputs": [
    {
     "name": "stdout",
     "output_type": "stream",
     "text": [
      "[  39   40   81  140  145  175  190  217  264  304  324  358  395  454\n",
      "  488  497  566  586  591  592  619  669  708  720  735  819  839  847\n",
      "  883  916  936  946  965 1001 1018]\n"
     ]
    }
   ],
   "source": [
    "# hard decision\n",
    "xHt = (abs(xHt) > .5)\n",
    "#print(xHt)\n",
    "res2 = np.where(xHt == 1)[0]\n",
    "print(res2)"
   ]
  },
  {
   "cell_type": "code",
   "execution_count": 7,
   "metadata": {},
   "outputs": [
    {
     "name": "stdout",
     "output_type": "stream",
     "text": [
      "40\n",
      "35\n"
     ]
    }
   ],
   "source": [
    "#print(np.sum(result == res2))\n",
    "print(len(result))\n",
    "print(len(res2))"
   ]
  },
  {
   "cell_type": "code",
   "execution_count": 10,
   "metadata": {},
   "outputs": [],
   "source": [
    "while len(res2) != len(result):\n",
    "    res2 = np.append(res2, 0)"
   ]
  },
  {
   "cell_type": "code",
   "execution_count": 74,
   "metadata": {},
   "outputs": [
    {
     "name": "stdout",
     "output_type": "stream",
     "text": [
      "by visual inspection it is shown that IST only missed one value: 328\n"
     ]
    }
   ],
   "source": [
    "print(\"by visual inspection it is shown that IST only missed one value: 328\")"
   ]
  },
  {
   "cell_type": "code",
   "execution_count": 14,
   "metadata": {},
   "outputs": [
    {
     "name": "stdout",
     "output_type": "stream",
     "text": [
      "0\n"
     ]
    }
   ],
   "source": [
    "print(np.sum(np.where(result[0] != res2[0] != 1)[0]))"
   ]
  },
  {
   "cell_type": "code",
   "execution_count": null,
   "metadata": {},
   "outputs": [],
   "source": []
  }
 ],
 "metadata": {
  "kernelspec": {
   "display_name": "Python 3",
   "language": "python",
   "name": "python3"
  },
  "language_info": {
   "codemirror_mode": {
    "name": "ipython",
    "version": 3
   },
   "file_extension": ".py",
   "mimetype": "text/x-python",
   "name": "python",
   "nbconvert_exporter": "python",
   "pygments_lexer": "ipython3",
   "version": "3.7.3"
  }
 },
 "nbformat": 4,
 "nbformat_minor": 2
}
