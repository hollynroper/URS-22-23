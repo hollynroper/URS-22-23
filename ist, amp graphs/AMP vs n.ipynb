{
 "cells": [
  {
   "cell_type": "code",
   "execution_count": 56,
   "metadata": {},
   "outputs": [],
   "source": [
    "import numpy as np\n",
    "import matplotlib.pyplot as plt\n",
    "\n",
    "# calc as L0 norm\n",
    "def onsager(z, r, tau, n):\n",
    "    return (z/n) * np.sum(eta(r, tau) != 0)\n",
    "\n",
    "def eta(u, T):\n",
    "    return (u - T)*(u >= T) + (u + T)*(u <= -T)"
   ]
  },
  {
   "cell_type": "code",
   "execution_count": 57,
   "metadata": {},
   "outputs": [],
   "source": [
    "N = 1024\n",
    "k = 40\n",
    "avg_over = 200 \n",
    "num_iterations = 5\n",
    "\n",
    "# create k sparse x vector\n",
    "x = np.zeros((N, 1))\n",
    "idx_nonzero_entries = np.random.permutation(N)[0:k]\n",
    "x[idx_nonzero_entries] = 1\n",
    "\n",
    "# arrays to plot with\n",
    "avg_mse = np.zeros(6)\n",
    "n_vec = np.arange(200, 320, 20)"
   ]
  },
  {
   "cell_type": "code",
   "execution_count": 58,
   "metadata": {},
   "outputs": [
    {
     "name": "stdout",
     "output_type": "stream",
     "text": [
      "[0.05774454 0.0402207  0.02772425 0.02014073 0.0140503  0.01047078]\n"
     ]
    }
   ],
   "source": [
    "curr_mse = 0\n",
    "cnt = 0\n",
    "for loc_n in range(200, 320, 20):\n",
    "    for avg in range(avg_over):\n",
    "        # compute first A and y\n",
    "        A = np.sqrt(1/loc_n)*np.random.randn(loc_n, N)\n",
    "        y = A @ x \n",
    "        # rst z, r, tau, xHt for next iteration\n",
    "        z = np.zeros(y.shape)\n",
    "        r = np.zeros(x.shape)\n",
    "        tau = 0\n",
    "        xHt = np.zeros(x.shape)\n",
    "        for idx_iter in range(num_iterations):\n",
    "            ons = onsager(z, r, tau, loc_n) #calulate next onsager\n",
    "            z = y - A @ xHt + ons\n",
    "            tau = np.sqrt((1/loc_n)) * np.linalg.norm(z)\n",
    "            r = xHt + A.T @ z\n",
    "            xHt = eta(r, tau)\n",
    "        # holds running total of mse\n",
    "        curr_mse += (1/N) * sum((x-xHt)**2)\n",
    "    avg_mse[cnt] = (1/avg_over) * curr_mse\n",
    "    curr_mse = 0 # reset for next n\n",
    "    cnt += 1\n",
    "        \n",
    "print(avg_mse)  "
   ]
  },
  {
   "cell_type": "markdown",
   "metadata": {},
   "source": [
    "# It appears as though the mse is doubled"
   ]
  },
  {
   "cell_type": "code",
   "execution_count": 59,
   "metadata": {},
   "outputs": [
    {
     "data": {
      "image/png": "[encoded data removed]",
      "text/plain": [
       "<Figure size 432x288 with 1 Axes>"
      ]
     },
     "metadata": {
      "needs_background": "light"
     },
     "output_type": "display_data"
    }
   ],
   "source": [
    "# plot the results\n",
    "plt.figure()\n",
    "plt.plot(n_vec, avg_mse)\n",
    "plt.title(f\"{num_iterations} AMP: MSE vs. n\")\n",
    "plt.xlabel(\"n\")\n",
    "plt.ylabel(\"MSE\")\n",
    "plt.grid(True, which='both')\n",
    "plt.show()"
   ]
  }
 ],
 "metadata": {
  "kernelspec": {
   "display_name": "Python 3",
   "language": "python",
   "name": "python3"
  },
  "language_info": {
   "codemirror_mode": {
    "name": "ipython",
    "version": 3
   },
   "file_extension": ".py",
   "mimetype": "text/x-python",
   "name": "python",
   "nbconvert_exporter": "python",
   "pygments_lexer": "ipython3",
   "version": "3.7.3"
  }
 },
 "nbformat": 4,
 "nbformat_minor": 2
}
