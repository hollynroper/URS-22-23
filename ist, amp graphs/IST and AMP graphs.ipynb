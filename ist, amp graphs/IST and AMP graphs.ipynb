{
 "cells": [
  {
   "cell_type": "code",
   "execution_count": 1,
   "metadata": {},
   "outputs": [],
   "source": [
    "import numpy as np\n",
    "import matplotlib.pyplot as plt"
   ]
  },
  {
   "cell_type": "code",
   "execution_count": 9,
   "metadata": {},
   "outputs": [],
   "source": [
    "def eta(u, T):\n",
    "    return (u - T)*(u >= T) + (u + T)*(u <= -T)"
   ]
  },
  {
   "cell_type": "code",
   "execution_count": 10,
   "metadata": {},
   "outputs": [],
   "source": [
    "N = 1024\n",
    "k = 40\n",
    "avg_over = 200 \n",
    "s = 0.2\n",
    "lambda_ = 0.1\n",
    "\n",
    "# create k sparse x vector\n",
    "x = np.zeros((N, 1))\n",
    "idx_nonzero_entries = np.random.permutation(N)[0:k]\n",
    "x[idx_nonzero_entries] = 1"
   ]
  },
  {
   "cell_type": "code",
   "execution_count": 11,
   "metadata": {},
   "outputs": [
    {
     "data": {
      "image/png": "[encoded data removed]",
      "text/plain": [
       "<Figure size 432x288 with 1 Axes>"
      ]
     },
     "metadata": {
      "needs_background": "light"
     },
     "output_type": "display_data"
    }
   ],
   "source": [
    "num_iterations = 5\n",
    "\n",
    "mse_vs_n = np.zeros(6)\n",
    "n_vec = np.zeros(6)\n",
    "cnt = 0\n",
    "mse_sum = 0\n",
    "#4 MSE vs n calc mse at end of 200 iterations\n",
    "for loc_n in range(200, 320, 20):\n",
    "    for j in range(200):\n",
    "        A = np.sqrt(1/loc_n)*np.random.randn(loc_n, N)\n",
    "        y = A @ x  \n",
    "        z = np.zeros(y.shape)\n",
    "        xHt = np.zeros(x.shape)\n",
    "        for idx_iter in range(num_iterations):\n",
    "            z = y - A @ xHt\n",
    "            r = xHt + s * A.T @ z\n",
    "            xHt = eta(r, s*lambda_)\n",
    "        mse_sum += (1/N) * np.sum((x - xHt)**2)\n",
    "    mse_vs_n[cnt] = (1/200) * mse_sum\n",
    "    n_vec[cnt] = loc_n\n",
    "    cnt += 1\n",
    "    mse_sum = 0\n",
    "\n",
    "# Plot results\n",
    "plt.figure()\n",
    "plt.plot(n_vec, mse_vs_n)\n",
    "plt.xlabel('n')\n",
    "plt.ylabel('MSE')\n",
    "plt.grid(True, which='both')\n",
    "plt.title(f\"{num_iterations} IST: mse vs n\")\n",
    "plt.show()"
   ]
  },
  {
   "cell_type": "code",
   "execution_count": null,
   "metadata": {},
   "outputs": [],
   "source": []
  }
 ],
 "metadata": {
  "kernelspec": {
   "display_name": "Python 3",
   "language": "python",
   "name": "python3"
  },
  "language_info": {
   "codemirror_mode": {
    "name": "ipython",
    "version": 3
   },
   "file_extension": ".py",
   "mimetype": "text/x-python",
   "name": "python",
   "nbconvert_exporter": "python",
   "pygments_lexer": "ipython3",
   "version": "3.7.3"
  }
 },
 "nbformat": 4,
 "nbformat_minor": 2
}
