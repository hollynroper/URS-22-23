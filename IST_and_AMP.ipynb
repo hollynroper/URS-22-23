{
  "nbformat": 4,
  "nbformat_minor": 0,
  "metadata": {
    "colab": {
      "provenance": [],
      "authorship_tag": "ABX9TyO2G22ApbueATgsFQgSUklt",
      "include_colab_link": true
    },
    "kernelspec": {
      "name": "python3",
      "display_name": "Python 3"
    },
    "language_info": {
      "name": "python"
    }
  },
  "cells": [
    {
      "cell_type": "markdown",
      "metadata": {
        "id": "view-in-github",
        "colab_type": "text"
      },
      "source": [
        "<a href=\"https://colab.research.google.com/github/hollynroper/URS-22-23/blob/main/IST_and_AMP.ipynb\" target=\"_parent\"><img src=\"https://colab.research.google.com/assets/colab-badge.svg\" alt=\"Open In Colab\"/></a>"
      ]
    },
    {
      "cell_type": "code",
      "execution_count": null,
      "metadata": {
        "id": "mtX0T_FJsF_-"
      },
      "outputs": [],
      "source": [
        "import numpy as np\n",
        "import matplotlib.pyplot as plt\n",
        "import random\n",
        "from math import sqrt"
      ]
    },
    {
      "cell_type": "markdown",
      "source": [
        "# Prepping for execution"
      ],
      "metadata": {
        "id": "ve1t7baNuMJ-"
      }
    },
    {
      "cell_type": "markdown",
      "source": [
        "The two fuctions in the next cell are the implementation of these two equations.\n",
        "\n",
        "The Onsager Correction term:\n",
        "\\begin{equation}   \\mu^t = \\frac{1}{n}\\mathbf{z}^{t-1}\\sum\\eta^{'}(r_j^{t-1};\\tau_{t-1})\n",
        "\\end{equation}\n",
        "\n",
        "The Eta function: \\begin{equation}    \\eta(u;T) = \n",
        "    \\left\\{\n",
        "    \\begin{array}{lr}\n",
        "        u - T &\\text{if } u \\ge T \\\\\n",
        "        u + T &\\text{if } u \\le -T \\\\\n",
        "        0 \\text{ else}&\n",
        "    \\end{array}\n",
        "    \\right\\} \\end{equation}\n",
        "\n",
        "Also included are system parameters. Where n is the number of measurements, N is the number of total users, and k is the number of active users. λ and s are thresholding parameters."
      ],
      "metadata": {
        "id": "K2pYFPD_sdba"
      }
    },
    {
      "cell_type": "code",
      "source": [
        "def onsager(z, r, tau):\n",
        "    return (z/n) * np.sum(eta(r, tau) != 0)\n",
        "\n",
        "def eta(u, T):\n",
        "    return (u - T)*(u >= T) + (u + T)*(u <= -T)\n",
        "\n",
        "# initial parameters\n",
        "n = 270\n",
        "N = 1024\n",
        "k = 40\n",
        "s = 0.2\n",
        "lambda_ = 0.1"
      ],
      "metadata": {
        "id": "YaadOCRjspCj"
      },
      "execution_count": null,
      "outputs": []
    },
    {
      "cell_type": "markdown",
      "source": [
        "A is the sensing matrix. It conists of Gaussian random variables with variance equal to 1/n.\n",
        "\n",
        "w is the noise vector.\n",
        "\n",
        "x is the messge vector that we will try to recover.\n",
        "\n",
        "y is the compressed signal received by the station."
      ],
      "metadata": {
        "id": "Wf0MQQ7ruRBz"
      }
    },
    {
      "cell_type": "code",
      "source": [
        "# create sensing matrix A\n",
        "A = np.sqrt(1/n)*np.random.randn(n, N)\n",
        "\n",
        "# finding thresholding parameter\n",
        "_, Lambda, _ = np.linalg.svd(A)\n",
        "L = np.max(Lambda) + 1\n",
        "\n",
        "# creating noise\n",
        "SNRs = np.array([-12,-10, -5, 1, 5, 10, 20])\n",
        "SNRs = (10**(SNRs/10))*n\n",
        "sigma = 1/(np.sqrt(SNRs))\n",
        "w = sigma[2]*np.random.randn(n).reshape(-1,1)\n",
        "\n",
        "# create k sparse x vector\n",
        "x = np.zeros((N, 1))\n",
        "idx_nonzero_entries = np.random.permutation(N)[0:k]\n",
        "x[idx_nonzero_entries] = 1\n",
        "\n",
        "y = A @ x + w"
      ],
      "metadata": {
        "id": "B-bR5zbjuHdk"
      },
      "execution_count": null,
      "outputs": []
    },
    {
      "cell_type": "markdown",
      "source": [
        "# MSE vs Iterations"
      ],
      "metadata": {
        "id": "4-rmCRKQuyy9"
      }
    },
    {
      "cell_type": "code",
      "source": [
        "num_iterations = 15"
      ],
      "metadata": {
        "id": "bV9eIR3ZvB3v"
      },
      "execution_count": null,
      "outputs": []
    },
    {
      "cell_type": "markdown",
      "source": [
        "**Iterative Soft Tresholding**\n",
        "\n",
        "Choosing alpha"
      ],
      "metadata": {
        "id": "v2sxvZ78u5VN"
      }
    },
    {
      "cell_type": "code",
      "source": [
        "num_iterations = 15\n",
        "alphas = [.05, .1, .15, .2, .25, .3, .35]\n",
        "mse_aL = []\n",
        "mse = np.zeros(num_iterations)\n",
        "\n",
        "for a in alphas:\n",
        "    xHt = np.zeros(x.shape)\n",
        "    for idx_iter in range(num_iterations):\n",
        "        z = y - A @ xHt\n",
        "        r = xHt + s * A.T @ z\n",
        "        xHt = eta(r, a/L)\n",
        "        # find the current error\n",
        "        mse[idx_iter] = (1/N) * np.sum((x - xHt)**2)\n",
        "    mse_aL.append(mse)\n",
        "    mse = np.zeros(num_iterations)\n",
        "\n",
        "# divide into respective arrays to plot\n",
        "mse_05 = mse_aL[0]\n",
        "mse_1 = mse_aL[1]\n",
        "mse_15 = mse_aL[2]\n",
        "mse_2 = mse_aL[3]\n",
        "mse_25 = mse_aL[4]\n",
        "mse_3 = mse_aL[5]\n",
        "mse_35 = mse_aL[6]\n",
        "\n",
        "# plotting the results\n",
        "plt.figure()\n",
        "plt.plot(range(1, num_iterations+1), mse_05, label=\"alpha=.05\")\n",
        "plt.plot(range(1, num_iterations+1), mse_1, label=\"alpha=.1\")\n",
        "plt.plot(range(1, num_iterations+1), mse_15, label=\"alpha=.15\")\n",
        "plt.plot(range(1, num_iterations+1), mse_2, label=\"alpha=.2\")\n",
        "plt.plot(range(1, num_iterations+1), mse_25, label=\"alpha=.25\")\n",
        "plt.plot(range(1, num_iterations+1), mse_3, label=\"alpha=.3\")\n",
        "plt.plot(range(1, num_iterations+1), mse_35, label=\"alpha=.35\")\n",
        "plt.title(\"MSE vs iterations\")\n",
        "plt.xlabel(\"Number of iterations\")\n",
        "plt.ylabel(\"MSE\")\n",
        "plt.legend()\n",
        "plt.grid(True, which='both')\n",
        "plt.show()"
      ],
      "metadata": {
        "id": "MAFVPrpqGEjh"
      },
      "execution_count": null,
      "outputs": []
    },
    {
      "cell_type": "markdown",
      "source": [
        "From the above results, we decided to use alpha = .2"
      ],
      "metadata": {
        "id": "4RRKXp0TII_T"
      }
    },
    {
      "cell_type": "code",
      "source": [
        "# IST\n",
        "alpha = .2\n",
        "ist_mse = np.zeros(num_iterations)\n",
        "xHt = np.zeros(x.shape)\n",
        "\n",
        "for idx_iter in range(num_iterations):\n",
        "    z = y - A @ xHt\n",
        "    r = xHt + s * A.T @ z  ### s -- what do I do with it\n",
        "    xHt = eta(r, alpha/L)\n",
        "    # find the current error\n",
        "    ist_mse[idx_iter] = (1/N) * np.sum((x - xHt)**2)"
      ],
      "metadata": {
        "id": "JwElRVR5uvnf"
      },
      "execution_count": null,
      "outputs": []
    },
    {
      "cell_type": "markdown",
      "source": [
        "**Approximate Message Passing**"
      ],
      "metadata": {
        "id": "qTFz3Tq1vJbO"
      }
    },
    {
      "cell_type": "code",
      "source": [
        "#AMP\n",
        "amp_mse = np.zeros(num_iterations)\n",
        "z = np.zeros(y.shape)\n",
        "xHt = np.zeros(x.shape)\n",
        "r = 0\n",
        "tau = 0\n",
        "ons = 0\n",
        "\n",
        "for idx_iter in range(num_iterations):\n",
        "    ons = onsager(z, r, tau)\n",
        "    z = y - A @ xHt + ons\n",
        "    tau = np.sqrt(1/n) * np.linalg.norm(z)\n",
        "    r = xHt + A.T @ z\n",
        "    xHt = eta(r, tau)\n",
        "\n",
        "    # find the current error\n",
        "    amp_mse[idx_iter] = (1/N) * np.sum((x - xHt)**2)"
      ],
      "metadata": {
        "id": "Ff_ELYNjvJIn"
      },
      "execution_count": null,
      "outputs": []
    },
    {
      "cell_type": "code",
      "source": [
        "# MSE vs itertations. Linear Scale\n",
        "plt.figure()\n",
        "plt.plot(range(1,num_iterations+1), ist_mse, label=\"IST\", color=\"green\")\n",
        "plt.plot(range(1,num_iterations+1), amp_mse, label=\"AMP\", color=\"darkorange\")\n",
        "plt.title(\"MSE vs iterations (Linear scale)\")\n",
        "plt.xlabel(\"Number of iterations\")\n",
        "plt.ylabel(\"MSE\")\n",
        "plt.legend()\n",
        "plt.grid(True, which='both')\n",
        "plt.show()\n",
        "\n",
        "# MSE vs itertations. Log Scale\n",
        "plt.figure()\n",
        "plt.semilogy(range(1,num_iterations+1), ist_mse, label=\"IST\", color=\"green\")\n",
        "plt.semilogy(range(1,num_iterations+1), amp_mse, label=\"AMP\", color=\"darkorange\")\n",
        "plt.title(\"MSE vs iterations (Log scale)\")\n",
        "plt.xlabel(\"Number of iterations\")\n",
        "plt.ylabel(\"MSE\")\n",
        "plt.legend()\n",
        "plt.grid(True, which='both')\n",
        "plt.show()"
      ],
      "metadata": {
        "id": "YidmDsxjvblw"
      },
      "execution_count": null,
      "outputs": []
    },
    {
      "cell_type": "markdown",
      "source": [
        "# MSE vs SNR"
      ],
      "metadata": {
        "id": "GkfiIXqAOB5p"
      }
    },
    {
      "cell_type": "code",
      "source": [
        "SNRdB = np.array([-12,-10, -5, 1, 5, 10, 20])\n",
        "SNRs = (10**(SNRdB/10))*n\n",
        "sigma = 1/(np.sqrt(SNRs))"
      ],
      "metadata": {
        "id": "bXh9wMKkOn6O"
      },
      "execution_count": null,
      "outputs": []
    },
    {
      "cell_type": "markdown",
      "source": [
        "**Iterative Soft Thresholding**\n",
        "!!! Still need to remove 's' !!!!"
      ],
      "metadata": {
        "id": "RKbn7JLMOaJl"
      }
    },
    {
      "cell_type": "code",
      "source": [
        "num_iterations = 15\n",
        "cnt = 0\n",
        "ist_mse_snr = np.zeros(len(sigma))\n",
        "\n",
        "for sig in sigma:\n",
        "    mse = 0\n",
        "    for i in range(100):\n",
        "        # creating new noise\n",
        "        w = sig*np.random.randn(n).reshape(-1,1)\n",
        "        x = np.zeros((N, 1))\n",
        "        idx_nonzero_entries = np.random.permutation(N)[0:k]\n",
        "        x[idx_nonzero_entries] = 1\n",
        "        y = A @ x + w\n",
        "\n",
        "        xHt = np.zeros(x.shape)\n",
        "\n",
        "        # IST\n",
        "        for idx_iter in range(num_iterations):\n",
        "            z = y - A @ xHt\n",
        "            r = xHt + s * A.T @ z   ## this 's' can't stick around\n",
        "            xHt = eta(r, alpha/L)\n",
        "        mse += (1/N) * np.sum((x - xHt)**2)\n",
        "        # find the current error\n",
        "    ist_mse_snr[cnt] = (1/100) * mse\n",
        "    cnt += 1"
      ],
      "metadata": {
        "id": "C0RaHwbDOZ8U"
      },
      "execution_count": null,
      "outputs": []
    },
    {
      "cell_type": "markdown",
      "source": [
        "**Approximate Message Passing**"
      ],
      "metadata": {
        "id": "90Z6ZZg5OW_t"
      }
    },
    {
      "cell_type": "code",
      "source": [
        "num_iterations = 15\n",
        "cnt = 0\n",
        "amp_mse_snr = np.zeros(len(sigma))\n",
        "mse = 0\n",
        "\n",
        "for sig in sigma:\n",
        "    mse = 0\n",
        "    for i in range(100):    \n",
        "        # creating new noise\n",
        "        w = sig*np.random.randn(n).reshape(-1,1)\n",
        "        x = np.zeros((N, 1))\n",
        "        idx_nonzero_entries = np.random.permutation(N)[0:k]\n",
        "        x[idx_nonzero_entries] = 1\n",
        "        y = A @ x + w\n",
        "\n",
        "        # prepping for AMP\n",
        "        z = np.zeros(y.shape)\n",
        "        r = 0\n",
        "        tau = 0\n",
        "        ons = 0\n",
        "        xHt = np.zeros(x.shape)\n",
        "\n",
        "        # AMP\n",
        "        for idx_iter in range(num_iterations):\n",
        "            ons = onsager(z, r, tau)\n",
        "            z = y - A @ xHt + ons\n",
        "            tau = np.sqrt(1/n) * np.linalg.norm(z)\n",
        "            r = xHt + A.T @ z\n",
        "            xHt = eta(r, tau)\n",
        "        mse += (1/N) * np.sum((x - xHt)**2)\n",
        "    amp_mse_snr[cnt] = (1/100) * mse\n",
        "    cnt += 1"
      ],
      "metadata": {
        "id": "h455nRpuODtY"
      },
      "execution_count": null,
      "outputs": []
    },
    {
      "cell_type": "code",
      "source": [
        "# MSE vs SNR. 15 iterations. Linear Scale\n",
        "plt.figure()\n",
        "plt.plot(SNRdB, ist_mse_snr, label=\"IST\", color=\"green\")\n",
        "plt.plot(SNRdB, amp_mse_snr, label=\"AMP\", color=\"orange\")\n",
        "plt.title(\"MSE vs SNR\")\n",
        "plt.xlabel(\"SNR (dB)\")\n",
        "plt.ylabel(\"MSE\")\n",
        "plt.legend()\n",
        "plt.grid(True, which='both')\n",
        "plt.show()\n",
        "\n",
        "# MSE vs SNR. 15 iterations. Log Scale\n",
        "plt.figure()\n",
        "plt.semilogy(SNRdB, ist_mse_snr, label=\"IST\", color=\"green\")\n",
        "plt.semilogy(SNRdB, amp_mse_snr, label=\"AMP\", color=\"orange\")\n",
        "plt.title(\"MSE vs SNR\")\n",
        "plt.xlabel(\"SNR (dB)\")\n",
        "plt.ylabel(\"MSE\")\n",
        "plt.legend()\n",
        "plt.grid(True, which='both')\n",
        "plt.show()"
      ],
      "metadata": {
        "id": "MLvm_d6vJGir"
      },
      "execution_count": null,
      "outputs": []
    }
  ]
}