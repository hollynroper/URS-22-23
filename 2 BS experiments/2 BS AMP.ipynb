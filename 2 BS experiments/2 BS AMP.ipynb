{
 "cells": [
  {
   "cell_type": "code",
   "execution_count": 16,
   "metadata": {},
   "outputs": [],
   "source": [
    "import numpy as np\n",
    "import matplotlib.pyplot as plt\n",
    "import random\n",
    "from math import sqrt\n",
    "\n",
    "def onsager(z, r, tau):\n",
    "    return (z/n) * np.sum(eta(r, tau) != 0)\n",
    "\n",
    "def eta(u, T):\n",
    "    return (u - T)*(u >= T) + (u + T)*(u <= -T)"
   ]
  },
  {
   "cell_type": "code",
   "execution_count": 35,
   "metadata": {},
   "outputs": [],
   "source": [
    "# Define simulation parameters\n",
    "n = 270\n",
    "N = 1024\n",
    "k = 40\n",
    "sigma = 0.05\n",
    "s = 0.2\n",
    "lambda_ = 0.1\n",
    "num_iterations = 5"
   ]
  },
  {
   "cell_type": "code",
   "execution_count": 31,
   "metadata": {},
   "outputs": [],
   "source": [
    "# SD * random array of size nxN\n",
    "A = np.sqrt(1/n)*np.random.randn(n, N)\n",
    "\n",
    "# Track MSE vs iterations\n",
    "#array of zeros the size of the iterations\n",
    "mse_vs_iterations = np.zeros(num_iterations)\n",
    "mse_vs_iterationsA = np.zeros(num_iterations)\n",
    "mse_vs_iterationsB = np.zeros(num_iterations)\n",
    "\n",
    "# Generate sparse vector x\n",
    "x = np.zeros((N, 1))\n",
    "idx_nonzero_entries = np.random.permutation(N)[0:k]\n",
    "non_zero_entries = np.random.randint(10, size=(k, 1))+1\n",
    "x[idx_nonzero_entries] = 1\n",
    "\n",
    "# Generate noise vector w\n",
    "# converts it to a column vector. nX1\n",
    "w = sigma*np.random.randn(n).reshape(-1, 1)\n",
    "w1 = sigma*np.random.randn(n).reshape(-1,1)\n",
    "\n",
    "# Generate measurement vector y - note that a @ b is equal to np.matmul(a, b)\n",
    "y = A @ x + w \n",
    "yb = A @ x + w1\n",
    "\n",
    "# Prep for IST/AMP\n",
    "z = np.zeros(y.shape)\n",
    "xHt = np.zeros(x.shape)"
   ]
  },
  {
   "cell_type": "code",
   "execution_count": 32,
   "metadata": {},
   "outputs": [],
   "source": [
    "z = np.zeros(y.shape)\n",
    "xHt = np.zeros(x.shape)\n",
    "r = 0\n",
    "tau = 0\n",
    "ons = 0\n",
    "\n",
    "#AMP\n",
    "for idx_iter in range(num_iterations):\n",
    "    ons = onsager(z, r, tau)\n",
    "    z = y - A @ xHt + ons\n",
    "    tau = np.sqrt(1/n) * np.linalg.norm(z)\n",
    "    r = xHt + A.T @ z\n",
    "    xHt = eta(r, tau)\n",
    "\n",
    "    # find the current error\n",
    "    mse_vs_iterations[idx_iter] = (1/N) * np.sum((x - xHt)**2)"
   ]
  },
  {
   "cell_type": "code",
   "execution_count": 33,
   "metadata": {},
   "outputs": [],
   "source": [
    "# reset the estimate and error\n",
    "za = np.zeros(y.shape)\n",
    "zb = np.zeros(y.shape)\n",
    "xHt = np.zeros(x.shape)\n",
    "ra = 0\n",
    "rb = 0\n",
    "taua = 0\n",
    "taub = 0\n",
    "onsa = 0\n",
    "onsb = 0\n",
    "\n",
    "# MSE vs iterations\n",
    "mse_vs_iter1 = np.zeros(num_iterations)\n",
    "for idx_iter in range(num_iterations):\n",
    "    onsa = onsager(za, ra, taua)\n",
    "    za = y - A @ xHt + onsa\n",
    "    taua = np.sqrt(1/n) * np.linalg.norm(za)\n",
    "    ra = xHt + A.T @ za\n",
    "    xHt = eta(ra, taua)\n",
    "# find the current error\n",
    "    err_sum1 = np.sum((x - xHt)**2)\n",
    "    \n",
    "# do the same for second vector\n",
    "    onsb = onsager(zb, rb, taub)\n",
    "    zb = y - A @ xHt + onsb\n",
    "    taub = np.sqrt(1/n) * np.linalg.norm(zb)\n",
    "    rb = xHt + A.T @ zb\n",
    "    xHt = eta(rb, taub)\n",
    "# find the current error\n",
    "    err_sum2 = np.sum((x - xHt)**2)\n",
    "    \n",
    "    # average the error together\n",
    "    mse_vs_iter1[idx_iter] = (1/(2*N)) * (err_sum1 +  err_sum2)"
   ]
  },
  {
   "cell_type": "code",
   "execution_count": 34,
   "metadata": {},
   "outputs": [
    {
     "data": {
      "image/png": "[encoded data removed]",
      "text/plain": [
       "<Figure size 432x288 with 1 Axes>"
      ]
     },
     "metadata": {
      "needs_background": "light"
     },
     "output_type": "display_data"
    }
   ],
   "source": [
    "# Plot results\n",
    "plt.figure()\n",
    "plt.plot(range(1,num_iterations+1), mse_vs_iter1, label=\"2 BS\")\n",
    "plt.plot(range(1,num_iterations+1), mse_vs_iterations, label=\"1 BS\")\n",
    "plt.legend()\n",
    "plt.xlabel('Iteration Number')\n",
    "plt.ylabel('MSE')\n",
    "plt.grid(True, which='both')\n",
    "plt.title(\"AMP: mse vs iterations\")\n",
    "plt.show()"
   ]
  },
  {
   "cell_type": "code",
   "execution_count": null,
   "metadata": {},
   "outputs": [],
   "source": []
  }
 ],
 "metadata": {
  "kernelspec": {
   "display_name": "Python 3",
   "language": "python",
   "name": "python3"
  },
  "language_info": {
   "codemirror_mode": {
    "name": "ipython",
    "version": 3
   },
   "file_extension": ".py",
   "mimetype": "text/x-python",
   "name": "python",
   "nbconvert_exporter": "python",
   "pygments_lexer": "ipython3",
   "version": "3.7.3"
  }
 },
 "nbformat": 4,
 "nbformat_minor": 2
}
