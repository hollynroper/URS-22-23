{
 "cells": [
  {
   "cell_type": "code",
   "execution_count": 38,
   "metadata": {},
   "outputs": [],
   "source": [
    "import numpy as np\n",
    "import matplotlib.pyplot as plt\n",
    "\n",
    "def eta(u, T):\n",
    "    return (u - T)*(u >= T) + (u + T)*(u <= -T)\n",
    "\n",
    "# Define simulation parameters\n",
    "n = 270\n",
    "N = 1024\n",
    "k = 40\n",
    "sigma = 0.05\n",
    "s = 0.2\n",
    "lambda_ = 0.1"
   ]
  },
  {
   "cell_type": "code",
   "execution_count": 49,
   "metadata": {},
   "outputs": [],
   "source": [
    "A = np.sqrt(1/n)*np.random.randn(n, N)\n",
    "\n",
    "x = np.zeros((N, 1))\n",
    "idx_nonzero_entries = np.random.permutation(N)[0:k]\n",
    "x[idx_nonzero_entries] = 1\n",
    "\n",
    "w = sigma*np.random.randn(n).reshape(-1, 1)\n",
    "w1 = sigma*np.random.randn(n).reshape(-1,1)\n",
    "\n",
    "y = A @ x + w \n",
    "yb = A @ x + w1\n",
    "\n",
    "z = np.zeros(y.shape)\n",
    "\n",
    "xHt = np.zeros(x.shape)"
   ]
  },
  {
   "cell_type": "code",
   "execution_count": 50,
   "metadata": {},
   "outputs": [
    {
     "name": "stdout",
     "output_type": "stream",
     "text": [
      "0.029327282980879384\n"
     ]
    }
   ],
   "source": [
    "num_iterations = 150\n",
    "mse_1bs = np.zeros(num_iterations)\n",
    "for i in range(num_iterations):\n",
    "    z = y - A @ xHt\n",
    "    r = xHt + s* A.T @ z\n",
    "    xHt = eta(r, s*lambda_)\n",
    "    err_sum = np.sum((x-xHt)**2)\n",
    "    mse_1bs[i] = (1/N) * err_sum\n",
    "print(mse_1bs[0])"
   ]
  },
  {
   "cell_type": "code",
   "execution_count": 51,
   "metadata": {},
   "outputs": [],
   "source": [
    "mse_1bs_plot = np.zeros(num_iterations // 2)\n",
    "for i in range(num_iterations):\n",
    "    if i % 2 == 1:\n",
    "        mse_1bs_plot[i//2] = mse_1bs[i]"
   ]
  },
  {
   "cell_type": "code",
   "execution_count": 52,
   "metadata": {},
   "outputs": [
    {
     "name": "stdout",
     "output_type": "stream",
     "text": [
      "75\n",
      "(75,)\n",
      "(75,)\n"
     ]
    }
   ],
   "source": [
    "# reset params for 2 bs\n",
    "num_iterations = num_iterations // 2\n",
    "xHt = np.zeros(x.shape)\n",
    "mse_2bs = np.zeros(num_iterations)\n",
    "\n",
    "for idx_iter in range(num_iterations): \n",
    "    za = y - A @ xHt\n",
    "    r = xHt + s * A.T @ za\n",
    "    xHt = eta(r, s*lambda_)\n",
    "    err_sum1 = np.sum((x - xHt)**2)\n",
    "\n",
    "# do the same for second vector\n",
    "    zb = yb - A @ xHt\n",
    "    r = xHt + s * A.T @ zb\n",
    "    xHt = eta(r, s*lambda_)\n",
    "    err_sum2 = np.sum((x - xHt)**2)\n",
    "    \n",
    "    mse_2bs[idx_iter] = (1/(2*N)) * (err_sum1 +  err_sum2)\n",
    "print(num_iterations)\n",
    "print(mse_2bs.shape)\n",
    "print(mse_1bs_plot.shape)"
   ]
  },
  {
   "cell_type": "code",
   "execution_count": 53,
   "metadata": {},
   "outputs": [
    {
     "data": {
      "image/png": "[encoded data removed]",
      "text/plain": [
       "<Figure size 432x288 with 1 Axes>"
      ]
     },
     "metadata": {
      "needs_background": "light"
     },
     "output_type": "display_data"
    }
   ],
   "source": [
    "# Plot results\n",
    "plt.figure()\n",
    "plt.plot(range(num_iterations), mse_2bs, label=\"2 BS\")\n",
    "plt.plot(range(num_iterations), mse_1bs_plot, label=\"1 BS\")\n",
    "plt.legend()\n",
    "plt.xlabel('Iteration Number')\n",
    "plt.ylabel('MSE')\n",
    "plt.grid(True, which='both')\n",
    "plt.title(\"IST: mse vs iterations\")\n",
    "plt.show()"
   ]
  },
  {
   "cell_type": "code",
   "execution_count": 44,
   "metadata": {},
   "outputs": [
    {
     "name": "stdout",
     "output_type": "stream",
     "text": [
      "[0.02972773 0.02745692 0.02585491 0.02453027 0.02337955 0.02235307\n",
      " 0.02142105 0.02056876 0.01977749 0.01903707 0.01833995 0.01768169\n",
      " 0.01705775 0.01646429 0.01589794 0.01535681 0.01483946 0.01434407\n",
      " 0.01387066 0.01341734 0.01298346 0.0125682  0.01217027 0.01178954\n",
      " 0.01142456]\n"
     ]
    }
   ],
   "source": [
    "print(mse_1bs_plot)"
   ]
  },
  {
   "cell_type": "code",
   "execution_count": null,
   "metadata": {},
   "outputs": [],
   "source": []
  }
 ],
 "metadata": {
  "kernelspec": {
   "display_name": "Python 3",
   "language": "python",
   "name": "python3"
  },
  "language_info": {
   "codemirror_mode": {
    "name": "ipython",
    "version": 3
   },
   "file_extension": ".py",
   "mimetype": "text/x-python",
   "name": "python",
   "nbconvert_exporter": "python",
   "pygments_lexer": "ipython3",
   "version": "3.7.3"
  }
 },
 "nbformat": 4,
 "nbformat_minor": 2
}
