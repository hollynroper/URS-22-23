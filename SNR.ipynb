{
 "cells": [
  {
   "cell_type": "code",
   "execution_count": 30,
   "metadata": {},
   "outputs": [],
   "source": [
    "from math import sqrt\n",
    "import numpy as np\n",
    "import matplotlib.pyplot as plt"
   ]
  },
  {
   "cell_type": "code",
   "execution_count": 28,
   "metadata": {},
   "outputs": [],
   "source": [
    "def onsager(z, r, tau):\n",
    "    return (z/n) * np.sum(eta(r, tau) != 0)\n",
    "\n",
    "def eta(u, T):\n",
    "    return (u - T)*(u >= T) + (u + T)*(u <= -T)\n",
    "\n",
    "n = 270\n",
    "N = 1024\n",
    "k = 40\n",
    "s = .1  ## this will have to change later\n",
    "num_iterations = 15\n",
    "\n",
    "# create sensing matrix A\n",
    "A = np.sqrt(1/n)*np.random.randn(n, N)\n",
    "alpha = .2\n",
    "_, Lambda, _ = np.linalg.svd(A)\n",
    "L = np.max(Lambda) + 1\n",
    "\n",
    "SNRdB = np.array([-12,-10, -5, 1, 5, 10, 20])\n",
    "SNRs = (10**(SNRdB/10))*n\n",
    "sigma = 1/(np.sqrt(SNRs))\n"
   ]
  },
  {
   "cell_type": "code",
   "execution_count": 46,
   "metadata": {},
   "outputs": [],
   "source": [
    "num_iterations = 15\n",
    "cnt = 0\n",
    "ist_mse_snr = np.zeros(len(sigma))\n",
    "\n",
    "for sig in sigma:\n",
    "    mse = 0\n",
    "    for i in range(100):\n",
    "        # creating new noise\n",
    "        w = sig*np.random.randn(n).reshape(-1,1)\n",
    "        x = np.zeros((N, 1))\n",
    "        idx_nonzero_entries = np.random.permutation(N)[0:k]\n",
    "        x[idx_nonzero_entries] = 1\n",
    "        y = A @ x + w\n",
    "\n",
    "        xHt = np.zeros(x.shape)\n",
    "\n",
    "        # IST\n",
    "        for idx_iter in range(num_iterations):\n",
    "            z = y - A @ xHt\n",
    "            r = xHt + s * A.T @ z   ## this 's' can't stick around\n",
    "            xHt = eta(r, alpha/L)\n",
    "        mse += (1/N) * np.sum((x - xHt)**2)\n",
    "        # find the current error\n",
    "    ist_mse_snr[cnt] = (1/100) * mse\n",
    "    cnt += 1\n",
    "        "
   ]
  },
  {
   "cell_type": "code",
   "execution_count": 47,
   "metadata": {},
   "outputs": [
    {
     "data": {
      "image/png": "[encoded data removed]",
      "text/plain": [
       "<Figure size 432x288 with 1 Axes>"
      ]
     },
     "metadata": {
      "needs_background": "light"
     },
     "output_type": "display_data"
    },
    {
     "name": "stdout",
     "output_type": "stream",
     "text": [
      "B/C I am still using 's' even though I converted to alpha/L this graph is funky\n"
     ]
    }
   ],
   "source": [
    "plt.figure()\n",
    "plt.plot(SNRdB, ist_mse_snr, label=\"IST\", color=\"green\")\n",
    "plt.title(\"MSE vs SNR\")\n",
    "plt.xlabel(\"SNR (dB)\")\n",
    "plt.ylabel(\"MSE\")\n",
    "plt.legend()\n",
    "plt.grid(True, which='both')\n",
    "plt.show()\n",
    "print(\"B/C I am still using 's' even though I converted to alpha/L this graph is funky\")"
   ]
  },
  {
   "cell_type": "code",
   "execution_count": 44,
   "metadata": {},
   "outputs": [],
   "source": [
    "num_iterations = 15\n",
    "cnt = 0\n",
    "amp_mse_snr = np.zeros(len(sigma))\n",
    "mse = 0\n",
    "\n",
    "for sig in sigma:\n",
    "    mse = 0\n",
    "    for i in range(100):    \n",
    "        # creating new noise\n",
    "        w = sig*np.random.randn(n).reshape(-1,1)\n",
    "        x = np.zeros((N, 1))\n",
    "        idx_nonzero_entries = np.random.permutation(N)[0:k]\n",
    "        x[idx_nonzero_entries] = 1\n",
    "        y = A @ x + w\n",
    "\n",
    "        # prepping for AMP\n",
    "        z = np.zeros(y.shape)\n",
    "        r = 0\n",
    "        tau = 0\n",
    "        ons = 0\n",
    "        xHt = np.zeros(x.shape)\n",
    "\n",
    "        # AMP\n",
    "        for idx_iter in range(num_iterations):\n",
    "            ons = onsager(z, r, tau)\n",
    "            z = y - A @ xHt + ons\n",
    "            tau = np.sqrt(1/n) * np.linalg.norm(z)\n",
    "            r = xHt + A.T @ z\n",
    "            xHt = eta(r, tau)\n",
    "        mse += (1/N) * np.sum((x - xHt)**2)\n",
    "    amp_mse_snr[cnt] = (1/100) * mse\n",
    "    cnt += 1\n",
    "    "
   ]
  },
  {
   "cell_type": "code",
   "execution_count": 45,
   "metadata": {},
   "outputs": [
    {
     "data": {
      "image/png": "[encoded data removed]",
      "text/plain": [
       "<Figure size 432x288 with 1 Axes>"
      ]
     },
     "metadata": {
      "needs_background": "light"
     },
     "output_type": "display_data"
    },
    {
     "name": "stdout",
     "output_type": "stream",
     "text": [
      "[0.05583414 0.04438029 0.02148509 0.00925903 0.00823746 0.0091816\n",
      " 0.00834119]\n"
     ]
    }
   ],
   "source": [
    "plt.figure()\n",
    "plt.plot(SNRdB, amp_mse_snr, label=\"AMP\", color=\"orange\")\n",
    "plt.title(\"MSE vs SNR\")\n",
    "plt.xlabel(\"SNR (dB)\")\n",
    "plt.ylabel(\"MSE\")\n",
    "plt.legend()\n",
    "plt.grid(True, which='both')\n",
    "plt.show()\n",
    "\n",
    "print(amp_mse_snr)"
   ]
  },
  {
   "cell_type": "code",
   "execution_count": null,
   "metadata": {},
   "outputs": [],
   "source": []
  }
 ],
 "metadata": {
  "kernelspec": {
   "display_name": "Python 3",
   "language": "python",
   "name": "python3"
  },
  "language_info": {
   "codemirror_mode": {
    "name": "ipython",
    "version": 3
   },
   "file_extension": ".py",
   "mimetype": "text/x-python",
   "name": "python",
   "nbconvert_exporter": "python",
   "pygments_lexer": "ipython3",
   "version": "3.7.3"
  }
 },
 "nbformat": 4,
 "nbformat_minor": 2
}
