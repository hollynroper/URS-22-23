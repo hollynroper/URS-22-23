{
 "cells": [
  {
   "cell_type": "code",
   "execution_count": 1,
   "metadata": {},
   "outputs": [],
   "source": [
    "import numpy as np\n",
    "import matplotlib.pyplot as plt\n",
    "\n",
    "def eta(u, T):\n",
    "    return (u - T)*(u >= T) + (u + T)*(u <= -T)\n",
    "\n",
    "# calc as L0 norm\n",
    "def onsager(z, r, tau, n):\n",
    "    return (z/n) * np.sum(eta(r, tau) != 0)"
   ]
  },
  {
   "cell_type": "code",
   "execution_count": 2,
   "metadata": {},
   "outputs": [],
   "source": [
    "num_iterations = 5\n",
    "n = 270\n",
    "N = 1024\n",
    "k = 40\n",
    "sigma = .05\n",
    "s = 0.2\n",
    "lambda_ = 0.1"
   ]
  },
  {
   "cell_type": "code",
   "execution_count": 3,
   "metadata": {},
   "outputs": [],
   "source": [
    "A = np.sqrt(1/n)*np.random.randn(n, N)\n",
    "\n",
    "x = np.zeros((N, 1))\n",
    "idx_nonzero_entries = np.random.permutation(N)[0:k]\n",
    "x[idx_nonzero_entries] = 1\n",
    "\n",
    "#w = sigma*np.random.randn(n).reshape(-1, 1)\n",
    "\n",
    "y = A @ x"
   ]
  },
  {
   "cell_type": "code",
   "execution_count": 5,
   "metadata": {},
   "outputs": [],
   "source": [
    "# arrays to plot with\n",
    "avg_mse = np.zeros(6)\n",
    "n_vec_1 = np.arange(200, 320, 20)\n",
    "avg_over = 200\n",
    "\n",
    "curr_mse = 0\n",
    "cnt = 0\n",
    "for loc_n in range(200, 320, 20):\n",
    "    for avg in range(avg_over):\n",
    "        # compute first A and y\n",
    "        A = np.sqrt(1/loc_n)*np.random.randn(loc_n, N)\n",
    "        y = A @ x \n",
    "        # rst z, r, tau, xHt for next iteration\n",
    "        z = np.zeros(y.shape)\n",
    "        r = np.zeros(x.shape)\n",
    "        tau = 0\n",
    "        xHt = np.zeros(x.shape)\n",
    "        for idx_iter in range(num_iterations):\n",
    "            ons = onsager(z, r, tau, loc_n) #calulate next onsager\n",
    "            z = y - A @ xHt + ons\n",
    "            tau = np.sqrt((1/loc_n)) * np.linalg.norm(z)\n",
    "            r = xHt + A.T @ z\n",
    "            xHt = eta(r, tau)\n",
    "        # holds running total of mse\n",
    "        curr_mse += (1/N) * sum((x-xHt)**2)\n",
    "    avg_mse[cnt] = (1/avg_over) * curr_mse\n",
    "    curr_mse = 0 # reset for next n\n",
    "    cnt += 1"
   ]
  },
  {
   "cell_type": "code",
   "execution_count": 7,
   "metadata": {},
   "outputs": [
    {
     "data": {
      "image/png": "[encoded data removed]",
      "text/plain": [
       "<Figure size 432x288 with 1 Axes>"
      ]
     },
     "metadata": {
      "needs_background": "light"
     },
     "output_type": "display_data"
    },
    {
     "name": "stdout",
     "output_type": "stream",
     "text": [
      "n = 270 | N = 1024 | k = 40\n"
     ]
    }
   ],
   "source": [
    "mse_vs_n = np.zeros(6)\n",
    "n_vec = np.zeros(6)\n",
    "cnt = 0\n",
    "num_avg = 200\n",
    "mse = 0\n",
    "\n",
    "for loc_n in range(200, 320, 20):\n",
    "    for run in range(num_avg):\n",
    "        z = np.zeros(y.shape)\n",
    "        xHt = np.zeros(x.shape)\n",
    "        A = np.sqrt(1/loc_n)*np.random.randn(loc_n, N)\n",
    "       # w = sigma*np.random.randn(loc_n).reshape(-1, 1)\n",
    "        y = A @ x    \n",
    "        for idx_iter in range(num_iterations):\n",
    "            z = y - A @ xHt\n",
    "            r = xHt + s * A.T @ z\n",
    "            xHt = eta(r, s*lambda_)\n",
    "        mse += (1/N) * np.sum((x - xHt)**2)\n",
    "    mse_vs_n[cnt] = (1/num_avg) * mse\n",
    "    n_vec[cnt] = loc_n\n",
    "    cnt += 1\n",
    "    mse = 0\n",
    "\n",
    "# Plot results\n",
    "plt.figure()\n",
    "plt.plot(n_vec, mse_vs_n, label=\"IST\")\n",
    "plt.plot(n_vec_1, avg_mse, label=\"AMP\")\n",
    "plt.legend()\n",
    "plt.xlabel('n')\n",
    "plt.ylabel('MSE')\n",
    "plt.grid(True, which='both')\n",
    "plt.title(f'{num_iterations} iterations: mse vs n')\n",
    "plt.show()\n",
    "print(f'n = {n} | N = {N} | k = {k}')"
   ]
  },
  {
   "cell_type": "code",
   "execution_count": null,
   "metadata": {},
   "outputs": [],
   "source": []
  }
 ],
 "metadata": {
  "kernelspec": {
   "display_name": "Python 3",
   "language": "python",
   "name": "python3"
  },
  "language_info": {
   "codemirror_mode": {
    "name": "ipython",
    "version": 3
   },
   "file_extension": ".py",
   "mimetype": "text/x-python",
   "name": "python",
   "nbconvert_exporter": "python",
   "pygments_lexer": "ipython3",
   "version": "3.7.3"
  }
 },
 "nbformat": 4,
 "nbformat_minor": 2
}
