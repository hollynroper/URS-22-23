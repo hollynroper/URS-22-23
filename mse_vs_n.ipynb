{
 "cells": [
  {
   "cell_type": "code",
   "execution_count": 11,
   "metadata": {},
   "outputs": [],
   "source": [
    "import numpy as np\n",
    "import matplotlib.pyplot as plt\n",
    "\n",
    "def eta(u, T):\n",
    "    return (u - T)*(u >= T) + (u + T)*(u <= -T)"
   ]
  },
  {
   "cell_type": "code",
   "execution_count": 12,
   "metadata": {},
   "outputs": [],
   "source": [
    "num_iterations = 5\n",
    "n = 200\n",
    "N = 1024\n",
    "k = 40\n",
    "sigma = .05\n",
    "s = 0.2\n",
    "lambda_ = 0.1"
   ]
  },
  {
   "cell_type": "code",
   "execution_count": 13,
   "metadata": {},
   "outputs": [],
   "source": [
    "A = np.sqrt(1/n)*np.random.randn(n, N)\n",
    "\n",
    "x = np.zeros((N, 1))\n",
    "idx_nonzero_entries = np.random.permutation(N)[0:k]\n",
    "x[idx_nonzero_entries] = 1\n",
    "\n",
    "#w = sigma*np.random.randn(n).reshape(-1, 1)\n",
    "\n",
    "y = A @ x"
   ]
  },
  {
   "cell_type": "code",
   "execution_count": 14,
   "metadata": {},
   "outputs": [
    {
     "data": {
      "image/png": "[encoded data removed]",
      "text/plain": [
       "<Figure size 432x288 with 1 Axes>"
      ]
     },
     "metadata": {
      "needs_background": "light"
     },
     "output_type": "display_data"
    }
   ],
   "source": [
    "mse_vs_n = np.zeros(6)\n",
    "n_vec = np.zeros(6)\n",
    "cnt = 0\n",
    "num_avg = 200\n",
    "mse = 0\n",
    "\n",
    "for loc_n in range(200, 320, 20):\n",
    "    for run in range(num_avg):\n",
    "        z = np.zeros(y.shape)\n",
    "        xHt = np.zeros(x.shape)\n",
    "        A = np.sqrt(1/loc_n)*np.random.randn(loc_n, N)\n",
    "       # w = sigma*np.random.randn(loc_n).reshape(-1, 1)\n",
    "        y = A @ x    \n",
    "        for idx_iter in range(num_iterations):\n",
    "            z = y - A @ xHt\n",
    "            r = xHt + s * A.T @ z\n",
    "            xHt = eta(r, s*lambda_)\n",
    "        mse += (1/N) * np.sum((x - xHt)**2)\n",
    "    mse_vs_n[cnt] = (1/num_avg) * mse\n",
    "    n_vec[cnt] = loc_n\n",
    "    cnt += 1\n",
    "    mse = 0\n",
    "\n",
    "# Plot results\n",
    "plt.figure()\n",
    "plt.plot(n_vec, mse_vs_n)\n",
    "plt.xlabel('n')\n",
    "plt.ylabel('MSE')\n",
    "plt.grid(True, which='both')\n",
    "plt.title(f'{num_iterations} IST: mse vs n')\n",
    "plt.show()"
   ]
  },
  {
   "cell_type": "code",
   "execution_count": null,
   "metadata": {},
   "outputs": [],
   "source": []
  }
 ],
 "metadata": {
  "kernelspec": {
   "display_name": "Python 3",
   "language": "python",
   "name": "python3"
  },
  "language_info": {
   "codemirror_mode": {
    "name": "ipython",
    "version": 3
   },
   "file_extension": ".py",
   "mimetype": "text/x-python",
   "name": "python",
   "nbconvert_exporter": "python",
   "pygments_lexer": "ipython3",
   "version": "3.7.3"
  }
 },
 "nbformat": 4,
 "nbformat_minor": 2
}
