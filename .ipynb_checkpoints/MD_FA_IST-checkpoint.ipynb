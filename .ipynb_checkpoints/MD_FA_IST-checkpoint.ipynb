{
 "cells": [
  {
   "cell_type": "code",
   "execution_count": 21,
   "metadata": {},
   "outputs": [],
   "source": [
    "import numpy as np\n",
    "import matplotlib.pyplot as plt\n",
    "import random\n",
    "\n",
    "def onsager(z, r, tau):\n",
    "    return (z/n) * np.sum(eta(r, tau) != 0)\n",
    "\n",
    "def eta(u, T):\n",
    "    return (u - T)*(u >= T) + (u + T)*(u <= -T)"
   ]
  },
  {
   "cell_type": "code",
   "execution_count": 62,
   "metadata": {},
   "outputs": [],
   "source": [
    "n = 270\n",
    "N = 1024\n",
    "k = 40\n",
    "num_iterations = 5\n",
    "s = 0.2\n",
    "lambda_ = 0.1\n",
    "\n",
    "# create sensing matrix A\n",
    "A = np.sqrt(1/n)*np.random.randn(n, N)\n",
    "\n",
    "# create k sparse x vector\n",
    "x = np.zeros((N, 1))\n",
    "idx_nonzero_entries = np.random.permutation(N)[0:k]\n",
    "x[idx_nonzero_entries] = 1\n",
    "\n",
    "y = A @ x\n",
    "\n",
    "md = np.zeros(0)\n",
    "md_cnt = 0\n",
    "fa = np.zeros(0)\n",
    "fa_cnt = 0"
   ]
  },
  {
   "cell_type": "code",
   "execution_count": 63,
   "metadata": {},
   "outputs": [],
   "source": [
    "non_zerox = np.where(x)[0]\n",
    "# IST\n",
    "xHt = np.zeros(x.shape)\n",
    "for j in range(1, num_iterations + 1):\n",
    "    for idx_iter in range(j):\n",
    "        z = y - A @ xHt\n",
    "        r = xHt + s * A.T @ z\n",
    "        xHt = eta(r, s*lambda_)\n",
    "    # hard decision\n",
    "    xHt = (abs(xHt) > .5)\n",
    "    \n",
    "    for i in non_zerox:\n",
    "        if xHt[i] == 1:\n",
    "            xHt[i] = 0  # this makes it easy to count FA\n",
    "        else:\n",
    "            md_cnt += 1\n",
    "    fa_cnt = np.sum(xHt)\n",
    "    md = np.append(md, md_cnt)\n",
    "    fa = np.append(fa, fa_cnt)\n",
    "    # reset counts\n",
    "    md_cnt = 0\n",
    "    fa_cnt = 0"
   ]
  },
  {
   "cell_type": "code",
   "execution_count": 64,
   "metadata": {},
   "outputs": [
    {
     "data": {
      "image/png": "[encoded data removed]",
      "text/plain": [
       "<Figure size 432x288 with 1 Axes>"
      ]
     },
     "metadata": {
      "needs_background": "light"
     },
     "output_type": "display_data"
    },
    {
     "name": "stdout",
     "output_type": "stream",
     "text": [
      "n = 270 | N = 1024 | k = 40\n",
      "[40. 40. 39. 39. 37.]\n",
      "[0. 0. 0. 0. 0.]\n"
     ]
    }
   ],
   "source": [
    "plt.figure()\n",
    "plt.plot(range(1,num_iterations+1), md, label=\"MD\", color=\"purple\")\n",
    "plt.plot(range(1,num_iterations+1), fa, label=\"FA\", color=\"red\")\n",
    "plt.title(\"FA, MD vs iterations\")\n",
    "plt.xlabel(\"Number of iterations\")\n",
    "plt.ylabel(\"FA, MD\")\n",
    "plt.legend()\n",
    "plt.grid(True, which='both')\n",
    "plt.show()\n",
    "print(f'n = {n} | N = {N} | k = {k}')\n",
    "\n",
    "print(md)\n",
    "print(fa)"
   ]
  },
  {
   "cell_type": "code",
   "execution_count": 61,
   "metadata": {},
   "outputs": [
    {
     "name": "stdout",
     "output_type": "stream",
     "text": [
      "[   0    1    2 ... 1021 1022 1023]\n",
      "[   0    1    2    3    4    5    6    7    8    9   10   11   12   13\n",
      "   14   15   16   17   18   19   20   21   22   23   24   25   26   27\n",
      "   28   29   30   31   32   33   34   35   36   37   38   39   40   41\n",
      "   42   43   44   45   46   47   48   49   50   51   52   53   54   55\n",
      "   56   57   58   59   60   61   62   63   64   65   66   67   68   69\n",
      "   70   71   72   73   74   75   76   77   78   79   80   81   82   83\n",
      "   85   86   87   88   89   90   91   92   93   94   95   96   97   98\n",
      "   99  100  101  102  103  104  105  106  107  108  109  110  111  112\n",
      "  113  114  115  116  117  118  119  120  121  122  123  124  125  126\n",
      "  127  128  129  130  132  133  134  135  137  138  139  140  141  142\n",
      "  143  144  145  146  147  148  149  150  151  152  153  154  155  156\n",
      "  157  158  159  160  161  162  163  164  165  166  167  168  170  171\n",
      "  172  173  174  175  176  177  178  179  180  181  182  183  184  185\n",
      "  186  187  188  189  190  191  192  193  194  195  196  197  198  199\n",
      "  200  201  202  203  204  205  206  207  208  209  210  211  212  213\n",
      "  214  215  216  217  218  219  220  221  223  224  225  226  227  229\n",
      "  230  231  232  233  234  235  236  238  239  240  241  242  243  244\n",
      "  245  246  247  248  249  250  251  252  253  254  255  256  257  258\n",
      "  259  260  261  262  264  265  266  267  268  269  270  271  272  273\n",
      "  274  275  277  278  279  280  281  282  283  284  285  286  287  288\n",
      "  289  290  291  292  293  294  295  296  297  299  300  301  302  303\n",
      "  304  305  306  307  308  309  310  311  312  313  314  315  316  317\n",
      "  318  319  320  321  322  323  324  325  326  327  328  329  330  332\n",
      "  333  334  335  337  338  339  340  341  342  343  344  345  346  347\n",
      "  348  349  350  351  352  353  354  355  356  357  358  359  360  361\n",
      "  362  363  364  365  366  367  368  369  370  371  372  373  374  375\n",
      "  376  377  378  379  380  381  382  383  384  385  386  387  388  389\n",
      "  391  392  393  394  395  396  397  398  399  400  401  402  403  404\n",
      "  405  406  407  408  409  410  411  412  413  414  415  416  417  418\n",
      "  419  420  422  423  424  425  426  427  428  429  430  431  432  433\n",
      "  434  435  436  437  438  439  440  441  442  443  444  445  446  447\n",
      "  448  449  450  451  452  453  454  455  456  457  458  459  460  461\n",
      "  462  463  464  465  466  467  468  469  470  471  472  473  474  475\n",
      "  476  477  479  480  481  483  484  485  486  487  488  489  490  491\n",
      "  492  493  494  495  496  497  498  499  500  501  502  503  504  505\n",
      "  506  507  508  509  510  511  512  513  514  515  516  517  518  519\n",
      "  520  521  522  523  524  525  526  527  528  529  530  531  532  533\n",
      "  534  535  536  537  538  539  540  541  543  544  545  547  548  549\n",
      "  550  551  552  553  554  555  556  557  558  559  560  561  562  563\n",
      "  564  565  566  567  568  569  570  571  572  573  574  575  576  577\n",
      "  578  579  580  581  582  583  584  586  587  588  589  590  591  592\n",
      "  593  594  595  596  597  598  599  600  601  602  603  604  605  607\n",
      "  608  610  611  612  613  614  615  616  617  618  619  620  621  622\n",
      "  623  624  625  626  627  628  629  630  631  632  633  634  635  636\n",
      "  637  638  640  641  642  643  644  645  646  647  648  649  650  651\n",
      "  652  654  655  657  658  659  661  662  663  664  665  666  667  668\n",
      "  669  670  671  672  673  674  675  676  677  678  679  680  681  682\n",
      "  683  684  686  687  688  690  691  692  693  694  695  697  698  699\n",
      "  700  701  702  703  704  705  706  707  708  709  710  711  712  713\n",
      "  714  715  716  717  718  719  720  721  722  723  724  725  726  727\n",
      "  728  729  730  732  733  735  736  737  738  739  740  741  742  743\n",
      "  744  745  746  747  748  749  750  751  752  753  754  755  756  757\n",
      "  758  759  760  761  763  764  765  766  767  768  769  770  771  772\n",
      "  773  774  775  776  778  779  780  781  782  783  784  785  786  787\n",
      "  788  789  790  791  792  793  794  795  797  798  799  801  802  803\n",
      "  804  805  806  807  808  809  810  811  812  813  814  815  816  817\n",
      "  818  819  820  821  822  823  824  825  826  827  828  829  830  831\n",
      "  832  833  834  835  836  837  838  839  840  842  843  844  845  846\n",
      "  847  848  849  850  851  852  853  854  855  856  857  858  859  860\n",
      "  861  862  863  864  865  866  867  868  869  870  871  872  873  874\n",
      "  875  876  877  878  879  881  882  883  884  885  887  888  889  890\n",
      "  891  892  893  894  895  896  897  898  899  900  901  902  903  904\n",
      "  905  906  907  908  909  910  911  912  913  914  915  916  917  918\n",
      "  919  920  921  922  923  924  925  926  927  928  929  930  931  932\n",
      "  933  934  935  936  937  938  939  940  941  942  943  944  945  946\n",
      "  947  948  949  950  951  952  953  954  955  956  957  958  959  960\n",
      "  961  963  964  965  966  967  968  969  970  971  972  973  974  975\n",
      "  976  977  978  979  980  981  982  984  985  986  987  988  989  990\n",
      "  991  992  993  994  995  996  997  998  999 1000 1001 1002 1003 1004\n",
      " 1006 1007 1008 1009 1010 1011 1012 1013 1014 1015 1016 1017 1018 1019\n",
      " 1020 1021 1022 1023]\n"
     ]
    }
   ],
   "source": [
    "print(np.where(xHt != 1)[0])\n",
    "print(np.where(x != 1)[0])"
   ]
  },
  {
   "cell_type": "code",
   "execution_count": 24,
   "metadata": {},
   "outputs": [],
   "source": [
    "# hard decision\n",
    "xHt = (abs(xHt) > .5)"
   ]
  },
  {
   "cell_type": "code",
   "execution_count": 25,
   "metadata": {},
   "outputs": [
    {
     "name": "stdout",
     "output_type": "stream",
     "text": [
      "[  20   82  124  131  141  168  173  194  209  216  220  231  319  323\n",
      "  332  338  341  368  382  427  442  456  471  493  495  497  500  538\n",
      "  546  561  566  584  756  770  851  888  920  946  997 1023]\n",
      "[  20   82  124  131  141  168  209  216  220  231  323  338  341  368\n",
      "  427  442  456  471  493  497  538  561  566  756  770  851  888  920\n",
      "  946  997 1023]\n"
     ]
    }
   ],
   "source": [
    "print(np.where(x)[0])\n",
    "print(np.where(xHt)[0])"
   ]
  },
  {
   "cell_type": "code",
   "execution_count": 26,
   "metadata": {},
   "outputs": [],
   "source": [
    "non_zerox = np.where(x)[0]\n",
    "\n",
    "for i in non_zerox:\n",
    "    if xHt[i] == 1:\n",
    "        xHt[i] = 0  # this makes it easy to count FA\n",
    "    else:\n",
    "        md += 1\n",
    "fa = np.sum(xHt)"
   ]
  },
  {
   "cell_type": "code",
   "execution_count": 27,
   "metadata": {},
   "outputs": [
    {
     "name": "stdout",
     "output_type": "stream",
     "text": [
      "9\n",
      "0\n"
     ]
    }
   ],
   "source": [
    "print(md)\n",
    "print(fa)"
   ]
  },
  {
   "cell_type": "code",
   "execution_count": null,
   "metadata": {},
   "outputs": [],
   "source": []
  }
 ],
 "metadata": {
  "kernelspec": {
   "display_name": "Python 3",
   "language": "python",
   "name": "python3"
  },
  "language_info": {
   "codemirror_mode": {
    "name": "ipython",
    "version": 3
   },
   "file_extension": ".py",
   "mimetype": "text/x-python",
   "name": "python",
   "nbconvert_exporter": "python",
   "pygments_lexer": "ipython3",
   "version": "3.7.3"
  }
 },
 "nbformat": 4,
 "nbformat_minor": 2
}
