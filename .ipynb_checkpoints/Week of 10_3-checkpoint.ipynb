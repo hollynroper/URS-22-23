{
 "cells": [
  {
   "cell_type": "raw",
   "metadata": {},
   "source": [
    "At each SNR value (sigma val) do 20 trials (over each iteration count) and take the average BER\n",
    "iterations: 10, 50, 100, 200, 300"
   ]
  },
  {
   "cell_type": "code",
   "execution_count": 31,
   "metadata": {},
   "outputs": [
    {
     "name": "stdout",
     "output_type": "stream",
     "text": [
      "[0.8912509381337455, 0.7943282347242815, 0.7079457843841379, 0.6309573444801932, 0.5623413251903491, 0.5011872336272724, 0.44668359215096315, 0.39810717055349726, 0.3548133892335754, 0.31622776601683794]\n"
     ]
    }
   ],
   "source": [
    "# Week of 10/3\n",
    "#expanding on AMP. plotting BER vs SNR\n",
    "# compare x with xHt and see if locations of non-zero entries align\n",
    "from math import sqrt\n",
    "import numpy as np\n",
    "import matplotlib.pyplot as plt\n",
    "\n",
    "# parameters\n",
    "n = 250\n",
    "N = 1024\n",
    "k = 40\n",
    "trials = 50\n",
    "iteration = 200\n",
    "iterations = np.array([10, 50, 100, 200])\n",
    "\n",
    "# create x vector  CHANGE ME- to how you discussed with Jamison\n",
    "x = np.zeros((N, 1))\n",
    "idx_nonzero_entries = np.random.permutation(N)[0:k]\n",
    "non_zero_entries = np.random.randint(10, size=(k, 1))+1\n",
    "x[idx_nonzero_entries] = 1 # non_zero_entries\n",
    "\n",
    "# Generate matrix A\n",
    "# SD * random array of size nxN\n",
    "A = np.sqrt(1/n)*np.random.randn(n, N)\n",
    "\n",
    "\n",
    "# create sigmas corresponding to SNR 1-10\n",
    "sigma = []\n",
    "for i in range(1,11):\n",
    "    sigma.append(1 / sqrt((10**(i/10))))    \n",
    "print(sigma)\n",
    "    \n",
    "\n",
    "# Prep for AMP\n",
    "\n",
    "xHt = np.zeros(x.shape)\n",
    "r = np.zeros(x.shape)\n",
    "ons = 0 \n",
    "tau = 0\n",
    "\n",
    "snr = np.arange(1, 11, 1)  #creates array of 1-10"
   ]
  },
  {
   "cell_type": "code",
   "execution_count": 32,
   "metadata": {},
   "outputs": [],
   "source": [
    "# support functions \n",
    "#eta\n",
    "def eta(u, T):\n",
    "    return (u - T)*(u >= T) + (u + T)*(u <= -T)\n",
    "\n",
    "#onsager - calculated as zero norm\n",
    "def onsager(z, r, tau):\n",
    "    # tau is different from s*lambda_\n",
    "    return (z/n) * np.sum(eta(r, tau) != 0)\n",
    " "
   ]
  },
  {
   "cell_type": "raw",
   "metadata": {},
   "source": [
    "Make \"hard decision\" set top 40 vals in xHt to 1 and zero out the rest\n",
    "extend SNR to 20db. this means more sigma vals\n",
    "BER < 10^-4 then stop SNR"
   ]
  },
  {
   "cell_type": "code",
   "execution_count": 34,
   "metadata": {},
   "outputs": [
    {
     "name": "stdout",
     "output_type": "stream",
     "text": [
      "sigma 0 ber = 3.38671875\n",
      "sigma 1 ber = 3.431640625\n",
      "sigma 2 ber = 3.341796875\n",
      "sigma 3 ber = 3.337890625\n",
      "sigma 4 ber = 3.23828125\n",
      "sigma 5 ber = 3.138671875\n",
      "sigma 6 ber = 3.033203125\n",
      "sigma 7 ber = 2.955078125\n",
      "sigma 8 ber = 2.83203125\n",
      "sigma 9 ber = 2.6875\n"
     ]
    },
    {
     "data": {
      "image/png": "[encoded data removed]",
      "text/plain": [
       "<Figure size 432x288 with 1 Axes>"
      ]
     },
     "metadata": {
      "needs_background": "light"
     },
     "output_type": "display_data"
    }
   ],
   "source": [
    "avg_ber = np.zeros(10)  # will hold the avg values to be plotted vs snr\n",
    "for i in range(10):  #  controls the sigma value (SNR)\n",
    "\n",
    "    \n",
    "    ber = 0  # reset BER for next sigma value\n",
    "    for j in range(trials):  # iterates over multiple trials\n",
    "        xHt = np.zeros(x.shape)\n",
    "        r = np.zeros(x.shape)\n",
    "        tau = 0\n",
    "        ons = 0\n",
    "        z = np.zeros(y.shape)\n",
    "            # generate new w and y for each sigma\n",
    "        w = sigma[i]* np.random.randn(n,1)\n",
    "       # random.normalvariate(0, sigma[i])  # noise vec\n",
    "\n",
    "        \n",
    "        y = A @ x + w \n",
    "        for iter_num in range(iteration):  \n",
    "            # run AMP\n",
    "            ons = onsager(z, r, tau) #calulate next onsager\n",
    "            z = y - A @ xHt + ons\n",
    "            tau = np.sqrt((1/n)) * np.linalg.norm(z)\n",
    "            r = xHt + A.T @ z\n",
    "            xHt = eta(r, tau)\n",
    "        # hard decision\n",
    "        idxmax = np.argpartition(xHt, -k, axis=0)[-k:]  # returns indicies of top 40 vals\n",
    "        xHt = np.zeros(x.shape)\n",
    "        xHt[idxmax] = 1\n",
    "       \n",
    "        ber += (1/N) * np.sum((x != 0) ^ (xHt != 0)) \n",
    "    avg_ber[i] = ber / trials\n",
    "    print(f'sigma {i} avg_ber = {avg_ber}')\n",
    "             \n",
    "plt.figure()\n",
    "plt.semilogy(snr, avg_ber)\n",
    "plt.xlabel('SNR')\n",
    "plt.ylabel('BER')\n",
    "plt.grid(True, which='both')\n",
    "plt.show()\n",
    "\n",
    "#plt.title(\"log(BER) vs. SNR\")"
   ]
  },
  {
   "cell_type": "code",
   "execution_count": 29,
   "metadata": {},
   "outputs": [
    {
     "name": "stdout",
     "output_type": "stream",
     "text": [
      "[[0. 0. 0. ... 0. 0. 0.]]\n"
     ]
    }
   ],
   "source": [
    "print(xHt.T)"
   ]
  },
  {
   "cell_type": "code",
   "execution_count": null,
   "metadata": {},
   "outputs": [],
   "source": []
  },
  {
   "cell_type": "code",
   "execution_count": 51,
   "metadata": {},
   "outputs": [
    {
     "data": {
      "text/plain": [
       "2"
      ]
     },
     "execution_count": 51,
     "metadata": {},
     "output_type": "execute_result"
    }
   ],
   "source": [
    "# sum goes index by index comparing x and xHt and adding the errors\n",
    "x = np.array([0, 1,2,0,2])\n",
    "xHt = np.array([8,5,2,0,0])\n",
    "np.sum((x != 0) ^ (xHt != 0))  # ex. this outputs 2"
   ]
  },
  {
   "cell_type": "code",
   "execution_count": null,
   "metadata": {},
   "outputs": [],
   "source": [
    "# counting the number of mistakes\n",
    "# this is an ineffecient way to do this\n",
    "err_cnt = 0\n",
    "ber = []\n",
    "for i in range(N):  # loop throgh all values of x\n",
    "    if x[i] == 0 and xHt[i] != 0:\n",
    "        err_cnt += 1\n",
    "    if x[i] != 0 and xHt[i] == 0:\n",
    "        err_cnt += 1\n",
    "    ber.append(err_cnt / (i+1))"
   ]
  },
  {
   "cell_type": "code",
   "execution_count": 61,
   "metadata": {},
   "outputs": [
    {
     "data": {
      "text/plain": [
       "'\\nplt.figure()\\nplt.semilogy(snr, avg_ber)\\nplt.xlabel(\\'SNR\\')\\nplt.ylabel(\\'BER\\')\\nplt.grid(True, which=\\'both\\')\\n#plt.title(\"log(BER) vs. SNR\")\\n'"
      ]
     },
     "execution_count": 61,
     "metadata": {},
     "output_type": "execute_result"
    },
    {
     "data": {
      "image/png": "[encoded data removed]",
      "text/plain": [
       "<Figure size 432x288 with 1 Axes>"
      ]
     },
     "metadata": {
      "needs_background": "light"
     },
     "output_type": "display_data"
    }
   ],
   "source": [
    "# uncomment iteration and comment out the top for loop to simplify and debug\n",
    "# fix indentation accordingly\n",
    "iteration = 50\n",
    "#for iteration in iterations:\n",
    "ber = 0\n",
    "avg_ber = np.zeros(10)\n",
    "plt.figure()\n",
    "for i in range(10):  #  controls the sigma value (SNR)\n",
    "    ber = 0  # reset BER for next sigma value\n",
    "    w = random.normalvariate(0, sigma[i]/sqrt(2)) + 1j*random.normalvariate(0, sigma[i]/sqrt(2))  # noise vec\n",
    "    for j in range(trials):  # iterates over multiple trials\n",
    "        for iter_num in range(iteration):  \n",
    "            # run AMP\n",
    "            ons = onsager(z, r, tau) #calulate next onsager\n",
    "            z = y - A @ xHt + ons\n",
    "            tau = np.sqrt((1/n)) * np.linalg.norm(z)\n",
    "            r = xHt + A.T @ z\n",
    "            xHt = eta(r, tau)\n",
    "        ber += (1/N) * np.sum((x != 0) ^ (xHt != 0))  #calc BER after all AMP iterations\n",
    "    avg_ber[i] = ber / trials  # sum of BER divided by number of trials\n",
    "    plt.semilogy(snr, avg_ber)\n",
    "    plt.xlabel('SNR')\n",
    "    plt.ylabel('BER')\n",
    "    plt.grid(True, which='both')\n",
    "'''\n",
    "plt.figure()\n",
    "plt.semilogy(snr, avg_ber)\n",
    "plt.xlabel('SNR')\n",
    "plt.ylabel('BER')\n",
    "plt.grid(True, which='both')\n",
    "#plt.title(\"log(BER) vs. SNR\")\n",
    "'''"
   ]
  }
 ],
 "metadata": {
  "kernelspec": {
   "display_name": "Python 3",
   "language": "python",
   "name": "python3"
  },
  "language_info": {
   "codemirror_mode": {
    "name": "ipython",
    "version": 3
   },
   "file_extension": ".py",
   "mimetype": "text/x-python",
   "name": "python",
   "nbconvert_exporter": "python",
   "pygments_lexer": "ipython3",
   "version": "3.7.3"
  }
 },
 "nbformat": 4,
 "nbformat_minor": 2
}
