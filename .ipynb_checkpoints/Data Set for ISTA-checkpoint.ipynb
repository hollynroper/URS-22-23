{
 "cells": [
  {
   "cell_type": "code",
   "execution_count": 46,
   "metadata": {},
   "outputs": [],
   "source": [
    "import numpy as np\n",
    "import pandas as pd\n",
    "\n",
    "# parameters\n",
    "n = 200\n",
    "N = 1024\n",
    "k = 40\n",
    "s = 0.2\n",
    "lambda_ = 0.1\n",
    "\n",
    "# 10k\n",
    "set_size = 10000"
   ]
  },
  {
   "cell_type": "code",
   "execution_count": 47,
   "metadata": {},
   "outputs": [],
   "source": [
    "# creating the data set\n",
    "\n",
    "# holds all the A's, x's, and y's\n",
    "#A_mat = []\n",
    "x_mat = []\n",
    "y_mat = []\n",
    "\n",
    "for i in range(set_size):\n",
    "    # A's\n",
    "    A = np.sqrt(1/n)*np.random.randn(n, N)\n",
    "    # add to A_mat\n",
    "    #A_mat.append(A)\n",
    "\n",
    "    # creating x's\n",
    "    x = np.zeros((N, 1))\n",
    "    idx_nonzero_entries = np.random.permutation(N)[0:k]\n",
    "    non_zero_entries = np.random.randint(10, size=(k, 1))+1\n",
    "    x[idx_nonzero_entries] = non_zero_entries\n",
    "    #add to x_mat\n",
    "    x_mat.append(x.T)\n",
    "\n",
    "    # y's\n",
    "    y = A @ x\n",
    "    # add to y_mat\n",
    "    y_mat.append(y.T)"
   ]
  },
  {
   "cell_type": "markdown",
   "metadata": {},
   "source": [
    "You will want to convert x_series into an array in tensorflow and pass that to the inputs\n",
    "You will convert y_series to an array as well when read in tensorflow and pass that to the outputs of the training loop"
   ]
  },
  {
   "cell_type": "code",
   "execution_count": 48,
   "metadata": {},
   "outputs": [],
   "source": [
    "# changing dataset size to 10k\n",
    "y_series = pd.Series(y_mat)\n",
    "\n",
    "x_series.to_csv('10kx.csv', header=False)\n",
    "y_series.to_csv('10ky.csv', header=False)"
   ]
  },
  {
   "cell_type": "markdown",
   "metadata": {},
   "source": [
    "These were used as tests:"
   ]
  },
  {
   "cell_type": "code",
   "execution_count": 42,
   "metadata": {},
   "outputs": [],
   "source": [
    "# store in a 2D data frame from pandas\n",
    "data = [y_mat, x_mat]\n",
    "to_write = pd.DataFrame(data, index=['y', 'x'])\n",
    "to_write.to_csv('10_y_x_test.csv')\n",
    "\n",
    "#print(to_write)\n",
    "\n",
    "# each x and y stored together for their corresponding A matrix"
   ]
  },
  {
   "cell_type": "code",
   "execution_count": 45,
   "metadata": {},
   "outputs": [],
   "source": [
    "# I like this method better\n",
    "# write x and y to their own files\n",
    "# use two panda series\n",
    "x_series = pd.Series(x_mat)\n",
    "y_series = pd.Series(y_mat)\n",
    "\n",
    "x_series.to_csv('10x_test.csv', header=False)\n",
    "y_series.to_csv('10y_test.csv', header=False)"
   ]
  }
 ],
 "metadata": {
  "kernelspec": {
   "display_name": "Python 3",
   "language": "python",
   "name": "python3"
  },
  "language_info": {
   "codemirror_mode": {
    "name": "ipython",
    "version": 3
   },
   "file_extension": ".py",
   "mimetype": "text/x-python",
   "name": "python",
   "nbconvert_exporter": "python",
   "pygments_lexer": "ipython3",
   "version": "3.7.3"
  }
 },
 "nbformat": 4,
 "nbformat_minor": 2
}
