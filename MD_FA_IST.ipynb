{
 "cells": [
  {
   "cell_type": "code",
   "execution_count": 7,
   "metadata": {},
   "outputs": [],
   "source": [
    "import numpy as np\n",
    "import matplotlib.pyplot as plt\n",
    "import random\n",
    "\n",
    "def onsager(z, r, tau):\n",
    "    return (z/n) * np.sum(eta(r, tau) != 0)\n",
    "\n",
    "def eta(u, T):\n",
    "    return (u - T)*(u >= T) + (u + T)*(u <= -T)"
   ]
  },
  {
   "cell_type": "code",
   "execution_count": 8,
   "metadata": {},
   "outputs": [],
   "source": [
    "n = 270\n",
    "N = 1024\n",
    "k = 40\n",
    "num_iterations = 5\n",
    "s = 0.2\n",
    "lambda_ = 0.1\n",
    "\n",
    "# create sensing matrix A\n",
    "A = np.sqrt(1/n)*np.random.randn(n, N)\n",
    "\n",
    "# create k sparse x vector\n",
    "x = np.zeros((N, 1))\n",
    "idx_nonzero_entries = np.random.permutation(N)[0:k]\n",
    "x[idx_nonzero_entries] = 1\n",
    "\n",
    "y = A @ x\n",
    "\n",
    "md = np.zeros(0)\n",
    "md_cnt = 0\n",
    "fa = np.zeros(0)\n",
    "fa_cnt = 0"
   ]
  },
  {
   "cell_type": "code",
   "execution_count": 63,
   "metadata": {},
   "outputs": [],
   "source": [
    "non_zerox = np.where(x)[0]\n",
    "# IST\n",
    "xHt = np.zeros(x.shape)\n",
    "for j in range(1, num_iterations + 1):\n",
    "    for idx_iter in range(j):\n",
    "        z = y - A @ xHt\n",
    "        r = xHt + s * A.T @ z\n",
    "        xHt = eta(r, s*lambda_)\n",
    "    # hard decision\n",
    "    xHt = (abs(xHt) > .5)\n",
    "    \n",
    "    for i in non_zerox:\n",
    "        if xHt[i] == 1:\n",
    "            xHt[i] = 0  # this makes it easy to count FA\n",
    "        else:\n",
    "            md_cnt += 1\n",
    "    fa_cnt = np.sum(xHt)\n",
    "    md = np.append(md, md_cnt)\n",
    "    fa = np.append(fa, fa_cnt)\n",
    "    # reset counts\n",
    "    md_cnt = 0\n",
    "    fa_cnt = 0"
   ]
  },
  {
   "cell_type": "code",
   "execution_count": 65,
   "metadata": {},
   "outputs": [
    {
     "data": {
      "image/png": "[encoded data removed]",
      "text/plain": [
       "<Figure size 432x288 with 1 Axes>"
      ]
     },
     "metadata": {
      "needs_background": "light"
     },
     "output_type": "display_data"
    },
    {
     "name": "stdout",
     "output_type": "stream",
     "text": [
      "n = 270 | N = 1024 | k = 40\n",
      "[40. 40. 39. 39. 37.]\n"
     ]
    }
   ],
   "source": [
    "plt.figure()\n",
    "plt.plot(range(1,num_iterations+1), md, label=\"MD\", color=\"purple\")\n",
    "#plt.plot(range(1,num_iterations+1), fa, label=\"FA\", color=\"red\")\n",
    "plt.title(\"FA, MD vs iterations\")\n",
    "plt.xlabel(\"Number of iterations\")\n",
    "plt.ylabel(\"FA, MD\")\n",
    "plt.legend()\n",
    "plt.grid(True, which='both')\n",
    "plt.show()\n",
    "print(f'n = {n} | N = {N} | k = {k}')\n",
    "\n",
    "print(md)\n",
    "#print(fa)"
   ]
  },
  {
   "cell_type": "code",
   "execution_count": 4,
   "metadata": {},
   "outputs": [],
   "source": [
    "x_mat = []\n",
    "y_mat = []\n",
    "for k in [1, 5, 10, 40, 60, 80, 100, 200, 500, 600]:\n",
    "    # create k sparse x vector\n",
    "    x = np.zeros((N, 1))\n",
    "    idx_nonzero_entries = np.random.permutation(N)[0:k]\n",
    "    x[idx_nonzero_entries] = 1\n",
    "    x_mat.append(x)\n",
    "    \n",
    "    y = A @ x\n",
    "    y_mat.append(y)\n",
    "    "
   ]
  },
  {
   "cell_type": "code",
   "execution_count": 35,
   "metadata": {},
   "outputs": [],
   "source": [
    "num_layers = 1\n",
    "md =[]\n",
    "for k in [1, 5, 10, 40, 60, 80, 100, 200, 500, 600]:\n",
    "    # create k sparse x vector\n",
    "    x = np.zeros((N, 1))\n",
    "    idx_nonzero_entries = np.random.permutation(N)[0:k]\n",
    "    x[idx_nonzero_entries] = 1\n",
    "    \n",
    "    y = A @ x\n",
    "    \n",
    "    non_zerox = np.where(x)[0]\n",
    "    xHt = np.zeros(x.shape)\n",
    "    # IST\n",
    "    for idx_iter in range(num_layers):\n",
    "        z = y - A @ xHt\n",
    "        r = xHt + s * A.T @ z\n",
    "        xHt = eta(r, s*lambda_)\n",
    "    # hard decision\n",
    "    xHt = (abs(xHt) > .5)\n",
    "#     print(non_zerox)\n",
    "#     print(np.where(xHt)[0])\n",
    "#     print('\\n')\n",
    "\n",
    "    for q in non_zerox:\n",
    "        if xHt[q] != 1:\n",
    "            md_cnt += 1\n",
    "    md.append(md_cnt)\n",
    "        # reset counts\n",
    "    md_cnt = 0"
   ]
  },
  {
   "cell_type": "code",
   "execution_count": 36,
   "metadata": {},
   "outputs": [
    {
     "data": {
      "image/png": "[encoded data removed]",
      "text/plain": [
       "<Figure size 432x288 with 1 Axes>"
      ]
     },
     "metadata": {
      "needs_background": "light"
     },
     "output_type": "display_data"
    },
    {
     "name": "stdout",
     "output_type": "stream",
     "text": [
      "Number of layers = 1\n",
      "Misdetection values [1, 5, 10, 40, 60, 79, 99, 193, 439, 505]\n"
     ]
    }
   ],
   "source": [
    "plt.figure()\n",
    "plt.scatter([1, 5, 10, 40, 60, 80, 100, 200, 500, 600], md, label=\"MD\", color=\"purple\")\n",
    "plt.title(\"IST: MD vs k\")\n",
    "plt.xlabel(\"k value\")\n",
    "plt.ylabel(\"MD\")\n",
    "plt.legend()\n",
    "plt.grid(True, which='both')\n",
    "plt.show()\n",
    "#print(f'n = {n} | N = {N} | k = {k}')\n",
    "print(f'Number of layers = {num_layers}')\n",
    "print(\"Misdetection values\",md)"
   ]
  },
  {
   "cell_type": "code",
   "execution_count": 1,
   "metadata": {},
   "outputs": [],
   "source": [
    "# print(np.where(xHt != 1)[0])\n",
    "# print(np.where(x != 1)[0])"
   ]
  },
  {
   "cell_type": "code",
   "execution_count": 24,
   "metadata": {},
   "outputs": [],
   "source": [
    "# hard decision\n",
    "xHt = (abs(xHt) > .5)"
   ]
  },
  {
   "cell_type": "code",
   "execution_count": 25,
   "metadata": {},
   "outputs": [
    {
     "name": "stdout",
     "output_type": "stream",
     "text": [
      "[  20   82  124  131  141  168  173  194  209  216  220  231  319  323\n",
      "  332  338  341  368  382  427  442  456  471  493  495  497  500  538\n",
      "  546  561  566  584  756  770  851  888  920  946  997 1023]\n",
      "[  20   82  124  131  141  168  209  216  220  231  323  338  341  368\n",
      "  427  442  456  471  493  497  538  561  566  756  770  851  888  920\n",
      "  946  997 1023]\n"
     ]
    }
   ],
   "source": [
    "print(np.where(x)[0])\n",
    "print(np.where(xHt)[0])"
   ]
  },
  {
   "cell_type": "code",
   "execution_count": 26,
   "metadata": {},
   "outputs": [],
   "source": [
    "non_zerox = np.where(x)[0]\n",
    "\n",
    "for i in non_zerox:\n",
    "    if xHt[i] == 1:\n",
    "        xHt[i] = 0  # this makes it easy to count FA\n",
    "    else:\n",
    "        md += 1\n",
    "fa = np.sum(xHt)"
   ]
  },
  {
   "cell_type": "code",
   "execution_count": 27,
   "metadata": {},
   "outputs": [
    {
     "name": "stdout",
     "output_type": "stream",
     "text": [
      "9\n",
      "0\n"
     ]
    }
   ],
   "source": [
    "print(md)\n",
    "print(fa)"
   ]
  },
  {
   "cell_type": "code",
   "execution_count": null,
   "metadata": {},
   "outputs": [],
   "source": []
  }
 ],
 "metadata": {
  "kernelspec": {
   "display_name": "Python 3",
   "language": "python",
   "name": "python3"
  },
  "language_info": {
   "codemirror_mode": {
    "name": "ipython",
    "version": 3
   },
   "file_extension": ".py",
   "mimetype": "text/x-python",
   "name": "python",
   "nbconvert_exporter": "python",
   "pygments_lexer": "ipython3",
   "version": "3.7.3"
  }
 },
 "nbformat": 4,
 "nbformat_minor": 2
}
