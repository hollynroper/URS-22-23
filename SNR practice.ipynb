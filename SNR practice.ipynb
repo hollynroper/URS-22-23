{
 "cells": [
  {
   "cell_type": "code",
   "execution_count": 5,
   "metadata": {},
   "outputs": [],
   "source": [
    "from math import sqrt"
   ]
  },
  {
   "cell_type": "code",
   "execution_count": 6,
   "metadata": {},
   "outputs": [
    {
     "name": "stdout",
     "output_type": "stream",
     "text": [
      "[0.8912509381337455, 0.5623413251903491, 0.31622776601683794, 0.1, 0.03162277660168379]\n"
     ]
    }
   ],
   "source": [
    "snr_vals = [1, 5, 10, 20, 30]\n",
    "sigma = []\n",
    "for num in snr_vals:\n",
    "    x = sqrt(10**(num/10))\n",
    "    x = 1/x\n",
    "    sigma.append(x)\n",
    "    \n",
    "print(sigma)"
   ]
  },
  {
   "cell_type": "code",
   "execution_count": 7,
   "metadata": {},
   "outputs": [
    {
     "name": "stdout",
     "output_type": "stream",
     "text": [
      "[0.8912509381337455, 0.7943282347242815, 0.7079457843841379, 0.6309573444801932, 0.5623413251903491, 0.5011872336272724, 0.44668359215096315, 0.39810717055349726, 0.3548133892335754, 0.31622776601683794]\n"
     ]
    }
   ],
   "source": [
    "sigma = []\n",
    "for i in range(1,11):\n",
    "    sigma.append(1 / sqrt((10**(i/10))))   \n",
    "print(sigma)"
   ]
  },
  {
   "cell_type": "code",
   "execution_count": null,
   "metadata": {},
   "outputs": [],
   "source": []
  }
 ],
 "metadata": {
  "kernelspec": {
   "display_name": "Python 3",
   "language": "python",
   "name": "python3"
  },
  "language_info": {
   "codemirror_mode": {
    "name": "ipython",
    "version": 3
   },
   "file_extension": ".py",
   "mimetype": "text/x-python",
   "name": "python",
   "nbconvert_exporter": "python",
   "pygments_lexer": "ipython3",
   "version": "3.7.3"
  }
 },
 "nbformat": 4,
 "nbformat_minor": 2
}
